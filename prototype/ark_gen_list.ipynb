{
 "cells": [
  {
   "cell_type": "code",
   "execution_count": 1,
   "metadata": {},
   "outputs": [],
   "source": [
    "import os\n",
    "import json"
   ]
  },
  {
   "cell_type": "code",
   "execution_count": 7,
   "metadata": {},
   "outputs": [
    {
     "name": "stdout",
     "output_type": "stream",
     "text": [
      "{'Bai_Ma_Chun': 0, 'Cai_Gou_Ping_Zheng': 1, 'Chi_Jin': 2, 'Chu_Ji_Zuo_Zhan_Ji_Lu': 3, 'D32_Gang': 4, 'Dai_Tang': 5, 'Fu_Zhu_Shuang_Xin_Pian': 6, 'Fu_Zhu_Xin_Pian': 7, 'Fu_Zhu_Xin_Pian_Zu': 8, 'Gai_Liang_Zhuang_Zhi': 9, 'Gao_Ji_Jia_Gu_Jian_Cai': 10, 'Gao_Ji_Ping_Zheng': 11, 'Gao_Ji_Zuo_Zhan_Ji_Lu': 12, 'Gu_Yuan_Yan': 13, 'Gu_Yuan_Yan_Zu': 14, 'Jia_Ji_Xu_Ke': 15, 'Jin_Jie_Jia_Gu_Jian_Cai': 16, 'Jin_Wei_Shuang_Xin_Pian': 17, 'Jin_Wei_Xin_Pian': 18, 'Jin_Wei_Xin_Pian_Zu': 19, 'Ji_Chu_Jia_Gu_Jian_Cai': 20, 'Ji_Chu_Zuo_Zhan_Ji_Lu': 21, 'Ji_Qiao_Gai_Yao_1': 22, 'Ji_Qiao_Gai_Yao_2': 23, 'Ji_Qiao_Gai_Yao_3': 24, 'Ju_He_Ji': 25, 'Ju_Ji_Shuang_Xin_Pian': 26, 'Ju_Ji_Xin_Pian': 27, 'Ju_Ji_Xin_Pian_Zu': 28, 'Ju_Suan_Zhi': 29, 'Ju_Suan_Zhi_Kuai': 30, 'Ju_Suan_Zhi_Zu': 31, 'Long_Gu': 32, 'Niu_Zhuan_Chun': 33, 'Po_Sun_Zhuang_Zhi': 34, 'Qing_Meng_Kuang': 35, 'Quan_Xin_Zhuang_Zhi': 36, 'RMA70-12': 37, 'RMA70-24': 38, 'San_Shui_Meng_Kuang': 39, 'Shi_Lian_Xun_Fang_Ping_Zheng': 40, 'Shuang_Ji_Na_Mi_Pian': 41, 'Shuang_Tong': 42, 'Shu_Shi_Shuang_Xin_Pian': 43, 'Shu_Shi_Xin_Pian': 44, 'Shu_Shi_Xin_Pian_Zu': 45, 'Tan': 46, 'Tang': 47, 'Tang_Ju_Kuai': 48, 'Tang_Zu': 49, 'Tan_Su': 50, 'Tan_Su_Zu': 51, 'Te_Zhong_Shuang_Xin_Pian': 52, 'Te_Zhong_Xin_Pian': 53, 'Te_Zhong_Xin_Pian_Zu': 54, 'Ti_Chun_Yuan_Yan': 55, 'Tong_Ning_Ji': 56, 'Tong_Ning_Ji_Zu': 57, 'Tong_Zhen_Lie': 58, 'Wu_Shui_Yan_Mo_Shi': 59, 'Xian_Feng_Shuang_Xin_Pian': 60, 'Xian_Feng_Xin_Pian': 61, 'Xian_Feng_Xin_Pian_Zu': 62, 'Xin_Pian_Zhu_Ji': 63, 'Xun_Fang_Ping_Zheng': 64, 'Yan_Mo_Shi': 65, 'Yi_Liao_Shuang_Xin_Pian': 66, 'Yi_Liao_Xin_Pian': 67, 'Yi_Liao_Xin_Pian_Zu': 68, 'Yi_Tie': 69, 'Yi_Tie_Kuai': 70, 'Yi_Tie_Sui_Pian': 71, 'Yi_Tie_Zu': 72, 'Yuan_Yan': 73, 'Zhao_Pin_Xu_Ke': 74, 'Zhi_Yuan_Liao': 75, 'Zhong_Ji_Zuo_Zhan_Ji_Lu': 76, 'Zhong_Zhuang_Shuang_Xin_Pian': 77, 'Zhong_Zhuang_Xin_Pian': 78, 'Zhong_Zhuang_Xin_Pian_Zu': 79, 'Zhuang_Zhi': 80, 'Zi_Zhi_Ping_Zheng': 81}\n",
      "['Bai_Ma_Chun', 'Cai_Gou_Ping_Zheng', 'Chi_Jin', 'Chu_Ji_Zuo_Zhan_Ji_Lu', 'D32_Gang', 'Dai_Tang', 'Fu_Zhu_Shuang_Xin_Pian', 'Fu_Zhu_Xin_Pian', 'Fu_Zhu_Xin_Pian_Zu', 'Gai_Liang_Zhuang_Zhi', 'Gao_Ji_Jia_Gu_Jian_Cai', 'Gao_Ji_Ping_Zheng', 'Gao_Ji_Zuo_Zhan_Ji_Lu', 'Gu_Yuan_Yan', 'Gu_Yuan_Yan_Zu', 'Jia_Ji_Xu_Ke', 'Jin_Jie_Jia_Gu_Jian_Cai', 'Jin_Wei_Shuang_Xin_Pian', 'Jin_Wei_Xin_Pian', 'Jin_Wei_Xin_Pian_Zu', 'Ji_Chu_Jia_Gu_Jian_Cai', 'Ji_Chu_Zuo_Zhan_Ji_Lu', 'Ji_Qiao_Gai_Yao_1', 'Ji_Qiao_Gai_Yao_2', 'Ji_Qiao_Gai_Yao_3', 'Ju_He_Ji', 'Ju_Ji_Shuang_Xin_Pian', 'Ju_Ji_Xin_Pian', 'Ju_Ji_Xin_Pian_Zu', 'Ju_Suan_Zhi', 'Ju_Suan_Zhi_Kuai', 'Ju_Suan_Zhi_Zu', 'Long_Gu', 'Niu_Zhuan_Chun', 'Po_Sun_Zhuang_Zhi', 'Qing_Meng_Kuang', 'Quan_Xin_Zhuang_Zhi', 'RMA70-12', 'RMA70-24', 'San_Shui_Meng_Kuang', 'Shi_Lian_Xun_Fang_Ping_Zheng', 'Shuang_Ji_Na_Mi_Pian', 'Shuang_Tong', 'Shu_Shi_Shuang_Xin_Pian', 'Shu_Shi_Xin_Pian', 'Shu_Shi_Xin_Pian_Zu', 'Tan', 'Tang', 'Tang_Ju_Kuai', 'Tang_Zu', 'Tan_Su', 'Tan_Su_Zu', 'Te_Zhong_Shuang_Xin_Pian', 'Te_Zhong_Xin_Pian', 'Te_Zhong_Xin_Pian_Zu', 'Ti_Chun_Yuan_Yan', 'Tong_Ning_Ji', 'Tong_Ning_Ji_Zu', 'Tong_Zhen_Lie', 'Wu_Shui_Yan_Mo_Shi', 'Xian_Feng_Shuang_Xin_Pian', 'Xian_Feng_Xin_Pian', 'Xian_Feng_Xin_Pian_Zu', 'Xin_Pian_Zhu_Ji', 'Xun_Fang_Ping_Zheng', 'Yan_Mo_Shi', 'Yi_Liao_Shuang_Xin_Pian', 'Yi_Liao_Xin_Pian', 'Yi_Liao_Xin_Pian_Zu', 'Yi_Tie', 'Yi_Tie_Kuai', 'Yi_Tie_Sui_Pian', 'Yi_Tie_Zu', 'Yuan_Yan', 'Zhao_Pin_Xu_Ke', 'Zhi_Yuan_Liao', 'Zhong_Ji_Zuo_Zhan_Ji_Lu', 'Zhong_Zhuang_Shuang_Xin_Pian', 'Zhong_Zhuang_Xin_Pian', 'Zhong_Zhuang_Xin_Pian_Zu', 'Zhuang_Zhi', 'Zi_Zhi_Ping_Zheng']\n"
     ]
    }
   ],
   "source": [
    "idx = 0\n",
    "name2idx = {}\n",
    "idx2name = []\n",
    "for fn in os.listdir('D:/dev/arknights_material_icon'):\n",
    "    if fn.endswith('.png'):\n",
    "        name = fn[:-4]\n",
    "        name2idx[name] = idx\n",
    "        idx2name.append(name)\n",
    "        idx += 1\n",
    "print(name2idx)\n",
    "print(idx2name)"
   ]
  },
  {
   "cell_type": "code",
   "execution_count": 8,
   "metadata": {},
   "outputs": [
    {
     "name": "stdout",
     "output_type": "stream",
     "text": [
      "{'Bai_Ma_Chun': 0, 'Cai_Gou_Ping_Zheng': 1, 'Chi_Jin': 2, 'Chu_Ji_Zuo_Zhan_Ji_Lu': 3, 'D32_Gang': 4, 'Dai_Tang': 5, 'Fu_Zhu_Shuang_Xin_Pian': 6, 'Fu_Zhu_Xin_Pian': 7, 'Fu_Zhu_Xin_Pian_Zu': 8, 'Gai_Liang_Zhuang_Zhi': 9, 'Gao_Ji_Jia_Gu_Jian_Cai': 10, 'Gao_Ji_Ping_Zheng': 11, 'Gao_Ji_Zuo_Zhan_Ji_Lu': 12, 'Gu_Yuan_Yan': 13, 'Gu_Yuan_Yan_Zu': 14, 'Jia_Ji_Xu_Ke': 15, 'Jin_Jie_Jia_Gu_Jian_Cai': 16, 'Jin_Wei_Shuang_Xin_Pian': 17, 'Jin_Wei_Xin_Pian': 18, 'Jin_Wei_Xin_Pian_Zu': 19, 'Ji_Chu_Jia_Gu_Jian_Cai': 20, 'Ji_Chu_Zuo_Zhan_Ji_Lu': 21, 'Ji_Qiao_Gai_Yao_1': 22, 'Ji_Qiao_Gai_Yao_2': 23, 'Ji_Qiao_Gai_Yao_3': 24, 'Ju_He_Ji': 25, 'Ju_Ji_Shuang_Xin_Pian': 26, 'Ju_Ji_Xin_Pian': 27, 'Ju_Ji_Xin_Pian_Zu': 28, 'Ju_Suan_Zhi': 29, 'Ju_Suan_Zhi_Kuai': 30, 'Ju_Suan_Zhi_Zu': 31, 'Long_Gu': 32, 'Niu_Zhuan_Chun': 33, 'Po_Sun_Zhuang_Zhi': 34, 'Qing_Meng_Kuang': 35, 'Quan_Xin_Zhuang_Zhi': 36, 'RMA70-12': 37, 'RMA70-24': 38, 'San_Shui_Meng_Kuang': 39, 'Shi_Lian_Xun_Fang_Ping_Zheng': 40, 'Shuang_Ji_Na_Mi_Pian': 41, 'Shuang_Tong': 42, 'Shu_Shi_Shuang_Xin_Pian': 43, 'Shu_Shi_Xin_Pian': 44, 'Shu_Shi_Xin_Pian_Zu': 45, 'Tan': 46, 'Tang': 47, 'Tang_Ju_Kuai': 48, 'Tang_Zu': 49, 'Tan_Su': 50, 'Tan_Su_Zu': 51, 'Te_Zhong_Shuang_Xin_Pian': 52, 'Te_Zhong_Xin_Pian': 53, 'Te_Zhong_Xin_Pian_Zu': 54, 'Ti_Chun_Yuan_Yan': 55, 'Tong_Ning_Ji': 56, 'Tong_Ning_Ji_Zu': 57, 'Tong_Zhen_Lie': 58, 'Wu_Shui_Yan_Mo_Shi': 59, 'Xian_Feng_Shuang_Xin_Pian': 60, 'Xian_Feng_Xin_Pian': 61, 'Xian_Feng_Xin_Pian_Zu': 62, 'Xin_Pian_Zhu_Ji': 63, 'Xun_Fang_Ping_Zheng': 64, 'Yan_Mo_Shi': 65, 'Yi_Liao_Shuang_Xin_Pian': 66, 'Yi_Liao_Xin_Pian': 67, 'Yi_Liao_Xin_Pian_Zu': 68, 'Yi_Tie': 69, 'Yi_Tie_Kuai': 70, 'Yi_Tie_Sui_Pian': 71, 'Yi_Tie_Zu': 72, 'Yuan_Yan': 73, 'Zhao_Pin_Xu_Ke': 74, 'Zhi_Yuan_Liao': 75, 'Zhong_Ji_Zuo_Zhan_Ji_Lu': 76, 'Zhong_Zhuang_Shuang_Xin_Pian': 77, 'Zhong_Zhuang_Xin_Pian': 78, 'Zhong_Zhuang_Xin_Pian_Zu': 79, 'Zhuang_Zhi': 80, 'Zi_Zhi_Ping_Zheng': 81, 'Fu_Zhu_Yi_Chan_Xin_Wu': 82, 'He_Cheng_Yu': 82, 'Jia_Ju_Ling_Jian': 82, 'Jin_Wei_Yi_Chan_Xin_Wu': 82, 'Ju_Ji_Yi_Chan_Xin_Wu': 82, 'Long_Men_Bi': 82, 'Shu_Shi_Yi_Chan_Xin_Wu': 82, 'Te_Zhong_Yi_Chan_Xin_Wu': 82, 'Xian_Feng_Yi_Chan_Xin_Wu': 82, 'Yi_Liao_Yi_Chan_Xin_Wu': 82, 'Yuan_Shi_Sui_Pian': 82, 'Zhi_Chun_Yuan_Shi': 82, 'Zhong_Zhuang_Yi_Chan_Xin_Wu': 82}\n",
      "['Bai_Ma_Chun', 'Cai_Gou_Ping_Zheng', 'Chi_Jin', 'Chu_Ji_Zuo_Zhan_Ji_Lu', 'D32_Gang', 'Dai_Tang', 'Fu_Zhu_Shuang_Xin_Pian', 'Fu_Zhu_Xin_Pian', 'Fu_Zhu_Xin_Pian_Zu', 'Gai_Liang_Zhuang_Zhi', 'Gao_Ji_Jia_Gu_Jian_Cai', 'Gao_Ji_Ping_Zheng', 'Gao_Ji_Zuo_Zhan_Ji_Lu', 'Gu_Yuan_Yan', 'Gu_Yuan_Yan_Zu', 'Jia_Ji_Xu_Ke', 'Jin_Jie_Jia_Gu_Jian_Cai', 'Jin_Wei_Shuang_Xin_Pian', 'Jin_Wei_Xin_Pian', 'Jin_Wei_Xin_Pian_Zu', 'Ji_Chu_Jia_Gu_Jian_Cai', 'Ji_Chu_Zuo_Zhan_Ji_Lu', 'Ji_Qiao_Gai_Yao_1', 'Ji_Qiao_Gai_Yao_2', 'Ji_Qiao_Gai_Yao_3', 'Ju_He_Ji', 'Ju_Ji_Shuang_Xin_Pian', 'Ju_Ji_Xin_Pian', 'Ju_Ji_Xin_Pian_Zu', 'Ju_Suan_Zhi', 'Ju_Suan_Zhi_Kuai', 'Ju_Suan_Zhi_Zu', 'Long_Gu', 'Niu_Zhuan_Chun', 'Po_Sun_Zhuang_Zhi', 'Qing_Meng_Kuang', 'Quan_Xin_Zhuang_Zhi', 'RMA70-12', 'RMA70-24', 'San_Shui_Meng_Kuang', 'Shi_Lian_Xun_Fang_Ping_Zheng', 'Shuang_Ji_Na_Mi_Pian', 'Shuang_Tong', 'Shu_Shi_Shuang_Xin_Pian', 'Shu_Shi_Xin_Pian', 'Shu_Shi_Xin_Pian_Zu', 'Tan', 'Tang', 'Tang_Ju_Kuai', 'Tang_Zu', 'Tan_Su', 'Tan_Su_Zu', 'Te_Zhong_Shuang_Xin_Pian', 'Te_Zhong_Xin_Pian', 'Te_Zhong_Xin_Pian_Zu', 'Ti_Chun_Yuan_Yan', 'Tong_Ning_Ji', 'Tong_Ning_Ji_Zu', 'Tong_Zhen_Lie', 'Wu_Shui_Yan_Mo_Shi', 'Xian_Feng_Shuang_Xin_Pian', 'Xian_Feng_Xin_Pian', 'Xian_Feng_Xin_Pian_Zu', 'Xin_Pian_Zhu_Ji', 'Xun_Fang_Ping_Zheng', 'Yan_Mo_Shi', 'Yi_Liao_Shuang_Xin_Pian', 'Yi_Liao_Xin_Pian', 'Yi_Liao_Xin_Pian_Zu', 'Yi_Tie', 'Yi_Tie_Kuai', 'Yi_Tie_Sui_Pian', 'Yi_Tie_Zu', 'Yuan_Yan', 'Zhao_Pin_Xu_Ke', 'Zhi_Yuan_Liao', 'Zhong_Ji_Zuo_Zhan_Ji_Lu', 'Zhong_Zhuang_Shuang_Xin_Pian', 'Zhong_Zhuang_Xin_Pian', 'Zhong_Zhuang_Xin_Pian_Zu', 'Zhuang_Zhi', 'Zi_Zhi_Ping_Zheng', 'Not_Support']\n"
     ]
    }
   ],
   "source": [
    "for fn in os.listdir('D:/dev/arknights_material_icon/not_support'):\n",
    "    if fn.endswith('.png'):\n",
    "        name = fn[:-4]\n",
    "        name2idx[name] = idx\n",
    "idx2name.append('Not_Support')\n",
    "print(name2idx)\n",
    "print(idx2name)"
   ]
  },
  {
   "cell_type": "code",
   "execution_count": 10,
   "metadata": {},
   "outputs": [],
   "source": [
    "with open('d:/dev/arknights_material_icon/derived/name2idx.json', 'w') as f:\n",
    "    json.dump(name2idx, f)\n",
    "with open('d:/dev/arknights_material_icon/derived/idx2name.json', 'w') as f:\n",
    "    json.dump(idx2name, f)"
   ]
  },
  {
   "cell_type": "code",
   "execution_count": null,
   "metadata": {},
   "outputs": [],
   "source": []
  }
 ],
 "metadata": {
  "kernelspec": {
   "display_name": "Python 3",
   "language": "python",
   "name": "python3"
  },
  "language_info": {
   "codemirror_mode": {
    "name": "ipython",
    "version": 3
   },
   "file_extension": ".py",
   "mimetype": "text/x-python",
   "name": "python",
   "nbconvert_exporter": "python",
   "pygments_lexer": "ipython3",
   "version": "3.6.5"
  }
 },
 "nbformat": 4,
 "nbformat_minor": 2
}
